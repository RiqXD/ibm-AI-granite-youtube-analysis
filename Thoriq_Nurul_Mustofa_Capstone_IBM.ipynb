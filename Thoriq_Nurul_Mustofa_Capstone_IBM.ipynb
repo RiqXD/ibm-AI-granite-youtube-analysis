{
  "nbformat": 4,
  "nbformat_minor": 0,
  "metadata": {
    "colab": {
      "provenance": [],
      "authorship_tag": "ABX9TyNfQcyRdRWcD4obZBrnuq0D",
      "include_colab_link": true
    },
    "kernelspec": {
      "name": "python3",
      "display_name": "Python 3"
    },
    "language_info": {
      "name": "python"
    }
  },
  "cells": [
    {
      "cell_type": "markdown",
      "metadata": {
        "id": "view-in-github",
        "colab_type": "text"
      },
      "source": [
        "<a href=\"https://colab.research.google.com/github/RiqXD/ibm-AI-granite-youtube-analysis/blob/main/Thoriq_Nurul_Mustofa_Capstone_IBM.ipynb\" target=\"_parent\"><img src=\"https://colab.research.google.com/assets/colab-badge.svg\" alt=\"Open In Colab\"/></a>"
      ]
    },
    {
      "cell_type": "markdown",
      "source": [
        "**Analisis Data Top 1000 YouTuber Global sebagai Strategi Pembuatan Konten Dengan Model IBM Granite**\n",
        "By Thoriq Nurul Mustofa\n"
      ],
      "metadata": {
        "id": "kmeb-cOH8CP_"
      }
    },
    {
      "cell_type": "markdown",
      "source": [
        "## Import pustaka, data set dan model AI IBM Granite"
      ],
      "metadata": {
        "id": "BN8fR5msDfFh"
      }
    },
    {
      "cell_type": "code",
      "source": [
        "from langchain_community.llms import Replicate\n",
        "import os\n",
        "from google.colab import userdata\n",
        "import pandas as pd\n",
        "\n",
        "api_token = userdata.get('test_API')\n",
        "os.environ[\"REPLICATE_API_TOKEN\"] = api_token\n",
        "\n",
        "model = \"ibm-granite/granite-3.3-8b-instruct\"\n",
        "llm = Replicate(model=model,replicate_api_token=api_token,)\n",
        "df = pd.read_csv(\"Global YouTube Statistics.csv\", encoding=\"latin1\")"
      ],
      "metadata": {
        "id": "pH7xkBv8xtdF"
      },
      "execution_count": 1,
      "outputs": []
    },
    {
      "cell_type": "markdown",
      "source": [
        "## Bersihkan kolom dan baris yang tidak diperlukan"
      ],
      "metadata": {
        "id": "be5lZSR3EGnf"
      }
    },
    {
      "cell_type": "code",
      "source": [
        "columns_needed = ['Youtuber', 'subscribers', 'video views', 'category', 'Country', 'channel_type']\n",
        "df = df[columns_needed]\n",
        "df.columns = ['youtuber', 'subscribers', 'video_views', 'category', 'country', 'channel_type']\n",
        "df = df.dropna()\n",
        "df = df[(df['subscribers'] > 0) & (df['video_views'] > 0)]"
      ],
      "metadata": {
        "id": "cOlVse-F6D5c"
      },
      "execution_count": 2,
      "outputs": []
    },
    {
      "cell_type": "markdown",
      "source": [
        "## Function untuk rekomendasi youtuber berdasarkan input tema dari user"
      ],
      "metadata": {
        "id": "d0Phd34OF0-Y"
      }
    },
    {
      "cell_type": "code",
      "source": [
        "def rekomendasi_konten(df, tema: str, top_n=5):\n",
        "    tema = tema.lower()\n",
        "    df_match = df[\n",
        "        df['category'].str.lower().str.contains(tema) |\n",
        "        df['channel_type'].str.lower().str.contains(tema)\n",
        "    ]\n",
        "    if df_match.empty:\n",
        "        return None, None\n",
        "\n",
        "    top_youtuber = df_match.sort_values(by='subscribers', ascending=False).head(top_n)\n",
        "    kategori_terkait = df_match['category'].value_counts().head(3).index.tolist()\n",
        "    return top_youtuber, kategori_terkait\n",
        "\n",
        "# Input from user\n",
        "tema_user = input(\"Masukkan tema konten yang ingin kamu buat (contoh: gaming, music, education): \")\n",
        "top_youtuber, kategori_terkait = rekomendasi_konten(df, tema_user)\n",
        "\n",
        "if top_youtuber is not None:\n",
        "    print(\"\\nTop Youtuber sebagai inspirasi:\")\n",
        "    print(top_youtuber[['youtuber', 'subscribers', 'video_views', 'category', 'country']])\n",
        "\n",
        "    print(\"\\nKategori Terkait:\")\n",
        "    print(\", \".join(kategori_terkait))\n",
        "\n",
        "    summary_text = top_youtuber.to_string(index=False)\n",
        "\n",
        "\n",
        "    # Prompt to AI model\n",
        "    prompt = f\"\"\"\n",
        "Saya ingin membuat konten YouTube dengan tema '{tema_user}'. Berikut adalah 5 Youtuber teratas pada tema tersebut:\n",
        "\n",
        "{summary_text}\n",
        "\n",
        "Tolong analisis dan berikan rekomendasi strategi pembuatan konten berdasarkan data di atas. Fokus pada:\n",
        "1. Gaya konten\n",
        "2. Target audiens\n",
        "3. Strategi pertumbuhan subscriber\n",
        "4. Waktu upload atau frekuensi\n",
        "\"\"\"\n",
        "\n",
        "    # Generate output\n",
        "    output = llm.invoke(prompt)\n",
        "    print(\"\\nRekomendasi Strategi :\")\n",
        "    print(output)\n",
        "\n",
        "else:\n",
        "    print(f\"\\nTidak ditemukan Youtuber dengan tema '{tema_user}'. Coba kata kunci lain.\")\n"
      ],
      "metadata": {
        "colab": {
          "base_uri": "https://localhost:8080/"
        },
        "id": "l7t88Ln99mSd",
        "outputId": "93af23eb-2804-455f-f07e-796bd64018be"
      },
      "execution_count": 3,
      "outputs": [
        {
          "output_type": "stream",
          "name": "stdout",
          "text": [
            "Masukkan tema konten yang ingin kamu buat (contoh: gaming, music, education): gaming\n",
            "\n",
            "Top Youtuber sebagai inspirasi:\n",
            "       youtuber  subscribers   video_views category      country\n",
            "7     PewDiePie    111000000  2.905804e+10   Gaming        Japan\n",
            "44  JuegaGerman     48100000  1.463171e+10   Gaming        Chile\n",
            "50           A4     46300000  2.293663e+10   Gaming         Cuba\n",
            "52   Fernanfloo     46100000  1.032339e+10   Gaming  El Salvador\n",
            "81    Mikecrack     39100000  1.611818e+10   Gaming        Spain\n",
            "\n",
            "Kategori Terkait:\n",
            "Gaming\n",
            "\n",
            "Rekomendasi Strategi :\n",
            "Berdasarkan data yang diberikan, berikut adalah rekomendasi strategi pembuatan konten YouTube berdasarkan tema gaming:\n",
            "\n",
            "1. **Gaya Konten:**\n",
            "   - **Variasi**: Youtubers teratas terdapat dalam berbagai negara dan memiliki gaya konten yang berbeda. PewDiePie, misalnya, menggabungkan humor dan narrative ke dalam video game review dan walkthrough. JuegaGerman, di sisi lain, lebih fokus pada tutorial dan gameplay. Fernanfloo dan Mikecrack juga berfokus pada gameplay dan review, tetapi dengan tingkat engagement yang tinggi di antara audiens mereka. A4 lebih berfokus pada kisah pribadi dan interaksi dengan audiens.\n",
            "   - **Strategi**: Coba menggabungkan elemen unik seperti kisah pribadi, interaksi dengan audiens, atau komedi dalam konten gameplay atau review Anda. Memastikan konten Anda berbeda dengan yang lain, bahkan di dalam kategori gaming, dapat membantu Anda terpisah dari persaingan.\n",
            "\n",
            "2. **Target Audiens:**\n",
            "   - **Demografis**: Youtubers tersebut memiliki audiens yang berbeda, tetapi mereka semua terfokus pada penikmat video game. PewDiePie, dengan audiens di Jepang, menunjukkan potensi untuk mencakup audiens global, sedangkan JuegaGerman, A4, Fernanfloo, dan Mikecrack memiliki audiens di Latin America.\n",
            "   - **Strategi**: Identifikasi target audiens Anda. Apakah Anda ingin mencakup audiens global seperti PewDiePie, atau lebih fokus pada sektor tertentu seperti Latin America? Pastikan konten Anda resonasi dengan taste dan preferensi mereka.\n",
            "\n",
            "3. **Strategi Pertumbuhan Subscriber:**\n",
            "   -\n"
          ]
        }
      ]
    },
    {
      "cell_type": "markdown",
      "source": [],
      "metadata": {
        "id": "phkQLAID6ySg"
      }
    }
  ]
}