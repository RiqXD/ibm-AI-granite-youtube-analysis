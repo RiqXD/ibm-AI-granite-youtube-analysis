{
  "nbformat": 4,
  "nbformat_minor": 0,
  "metadata": {
    "colab": {
      "provenance": [],
      "authorship_tag": "ABX9TyMNuisLUN2xvtCUSNk7llx2",
      "include_colab_link": true
    },
    "kernelspec": {
      "name": "python3",
      "display_name": "Python 3"
    },
    "language_info": {
      "name": "python"
    }
  },
  "cells": [
    {
      "cell_type": "markdown",
      "metadata": {
        "id": "view-in-github",
        "colab_type": "text"
      },
      "source": [
        "<a href=\"https://colab.research.google.com/github/RiqXD/ibm-AI-granite-youtube-analysis/blob/main/Thoriq_Nurul_Mustofa_Capstone_IBM.ipynb\" target=\"_parent\"><img src=\"https://colab.research.google.com/assets/colab-badge.svg\" alt=\"Open In Colab\"/></a>"
      ]
    },
    {
      "cell_type": "markdown",
      "source": [
        "**Analisis Data Top 1000 YouTuber Global sebagai Strategi Pembuatan Konten Dengan Model IBM Granite**\n",
        "By Thoriq Nurul Mustofa\n"
      ],
      "metadata": {
        "id": "kmeb-cOH8CP_"
      }
    },
    {
      "cell_type": "markdown",
      "source": [
        "## Import pustaka, data set dan model AI IBM Granite"
      ],
      "metadata": {
        "id": "BN8fR5msDfFh"
      }
    },
    {
      "cell_type": "code",
      "source": [
        "from langchain_community.llms import Replicate\n",
        "import os\n",
        "from google.colab import userdata\n",
        "import pandas as pd\n",
        "\n",
        "api_token = userdata.get('test_API')\n",
        "os.environ[\"REPLICATE_API_TOKEN\"] = api_token\n",
        "\n",
        "model = \"ibm-granite/granite-3.3-8b-instruct\"\n",
        "llm = Replicate(model=model,replicate_api_token=api_token,)\n",
        "df = pd.read_csv(\"Global YouTube Statistics.csv\", encoding=\"latin1\")"
      ],
      "metadata": {
        "id": "pH7xkBv8xtdF"
      },
      "execution_count": null,
      "outputs": []
    },
    {
      "cell_type": "markdown",
      "source": [
        "## Bersihkan kolom dan baris yang tidak diperlukan"
      ],
      "metadata": {
        "id": "be5lZSR3EGnf"
      }
    },
    {
      "cell_type": "code",
      "source": [
        "columns_needed = ['Youtuber', 'subscribers', 'video views', 'category', 'Country', 'channel_type']\n",
        "df = df[columns_needed]\n",
        "df.columns = ['youtuber', 'subscribers', 'video_views', 'category', 'country', 'channel_type']\n",
        "df = df.dropna()\n",
        "df = df[(df['subscribers'] > 0) & (df['video_views'] > 0)]"
      ],
      "metadata": {
        "id": "cOlVse-F6D5c"
      },
      "execution_count": null,
      "outputs": []
    },
    {
      "cell_type": "markdown",
      "source": [
        "## Function untuk rekomendasi youtuber berdasarkan input tema dari user"
      ],
      "metadata": {
        "id": "d0Phd34OF0-Y"
      }
    },
    {
      "cell_type": "code",
      "source": [
        "def rekomendasi_konten(df, tema: str, top_n=5):\n",
        "    tema = tema.lower()\n",
        "    df_match = df[\n",
        "        df['category'].str.lower().str.contains(tema) |\n",
        "        df['channel_type'].str.lower().str.contains(tema)\n",
        "    ]\n",
        "    if df_match.empty:\n",
        "        return None, None\n",
        "\n",
        "    top_youtuber = df_match.sort_values(by='subscribers', ascending=False).head(top_n)\n",
        "    kategori_terkait = df_match['category'].value_counts().head(3).index.tolist()\n",
        "    return top_youtuber, kategori_terkait\n",
        "\n",
        "# Input from user\n",
        "tema_user = input(\"Masukkan tema konten yang ingin kamu buat (contoh: gaming, music, education): \")\n",
        "top_youtuber, kategori_terkait = rekomendasi_konten(df, tema_user)\n",
        "\n",
        "if top_youtuber is not None:\n",
        "    print(\"\\nTop Youtuber sebagai inspirasi:\")\n",
        "    print(top_youtuber[['youtuber', 'subscribers', 'video_views', 'category', 'country']])\n",
        "\n",
        "    print(\"\\nKategori Terkait:\")\n",
        "    print(\", \".join(kategori_terkait))\n",
        "\n",
        "    summary_text = top_youtuber.to_string(index=False)\n",
        "\n",
        "\n",
        "    # Prompt to AI model\n",
        "    prompt = f\"\"\"\n",
        "Saya ingin membuat konten YouTube dengan tema '{tema_user}'. Berikut adalah 5 Youtuber teratas pada tema tersebut:\n",
        "\n",
        "{summary_text}\n",
        "\n",
        "Tolong analisis dan berikan rekomendasi strategi pembuatan konten berdasarkan data di atas. Fokus pada:\n",
        "1. Gaya konten\n",
        "2. Target audiens\n",
        "3. Strategi pertumbuhan subscriber\n",
        "4. Waktu upload atau frekuensi\n",
        "\"\"\"\n",
        "\n",
        "    # Generate output\n",
        "    output = llm(prompt)\n",
        "    print(\"\\nRekomendasi Strategi :\")\n",
        "    print(output)\n",
        "\n",
        "else:\n",
        "    print(f\"\\nTidak ditemukan Youtuber dengan tema '{tema_user}'. Coba kata kunci lain.\")\n"
      ],
      "metadata": {
        "colab": {
          "base_uri": "https://localhost:8080/"
        },
        "id": "l7t88Ln99mSd",
        "outputId": "939f6126-423e-472c-ef21-6a8bed3e9d4b"
      },
      "execution_count": null,
      "outputs": [
        {
          "output_type": "stream",
          "name": "stdout",
          "text": [
            "Masukkan tema konten yang ingin kamu buat (contoh: gaming, music, education): gaming\n",
            "\n",
            "Top Youtuber sebagai inspirasi:\n",
            "       youtuber  subscribers   video_views category      country\n",
            "7     PewDiePie    111000000  2.905804e+10   Gaming        Japan\n",
            "44  JuegaGerman     48100000  1.463171e+10   Gaming        Chile\n",
            "50           A4     46300000  2.293663e+10   Gaming         Cuba\n",
            "52   Fernanfloo     46100000  1.032339e+10   Gaming  El Salvador\n",
            "81    Mikecrack     39100000  1.611818e+10   Gaming        Spain\n",
            "\n",
            "Kategori Terkait:\n",
            "Gaming\n"
          ]
        },
        {
          "output_type": "stream",
          "name": "stderr",
          "text": [
            "/tmp/ipython-input-18084583.py:42: LangChainDeprecationWarning: The method `BaseLLM.__call__` was deprecated in langchain-core 0.1.7 and will be removed in 1.0. Use :meth:`~invoke` instead.\n",
            "  output = llm(prompt)\n"
          ]
        },
        {
          "output_type": "stream",
          "name": "stdout",
          "text": [
            "\n",
            "Rekomendasi Strategi :\n",
            "Based on the data provided, here are some strategic recommendations for your gaming YouTube channel:\n",
            "\n",
            "1. Gaya konten:\n",
            "   - **Variety and Authenticity**: PewDiePie and Fernanfloo demonstrate that a mix of content types (reactions, let's plays, challenges, vlogs) can attract large audiences. A4, with a focus on 'People' category, shows that engaging with the community and sharing personal stories can also be effective.\n",
            "   - **High-quality Production**: JuegaGerman and Mikecrack, with their high video views, suggest that investing in good video and audio quality can help stand out.\n",
            "   - **Cultural Relevance**: Consider incorporating elements from different cultures (like PewDiePie's Swedish humor) to attract a broader audience.\n",
            "\n",
            "2. Target Audience:\n",
            "   - **Global Appeal**: The diverse countries of these top YouTubers indicate that gaming content has a global audience. Focus on content that transcends cultural barriers, like popular multiplayer games or universal gaming trends.\n",
            "   - **Engage with Niche Communities**: A4's success in Cuba suggests that catering to specific, smaller gaming communities can lead to growth. Identify and engage with niche gaming subcultures.\n",
            "\n",
            "3. Strategi pertumbuhan subscriber:\n",
            "   - **Consistency and Frequency**: All top YouTubers have a high number of subscribers and views, suggesting regular, consistent uploads. Aim for a reliable upload schedule (e.g., weekly or bi-weekly).\n",
            "   - **Cross-promotion and Collaboration**: Collaborate with other YouTubers, especially those with complementary audiences, to tap into their subscriber base.\n",
            "   - **Engage with Your Audience**: Respond to comments, create community-driven content, and foster a sense of belonging among viewers to encourage subscriptions and repeat viewers.\n",
            "\n",
            "4. Waktu upload atau frekuensi:\n",
            "   - **Regular Schedule**: Maintain a consistent upload schedule. Most successful gaming channels upload at least once a week. This helps retain viewers and attract new ones.\n",
            "   - **Prime Time**: Consider uploading during peak viewing times in different time zones to maximize reach. Tools like TubeBuddy can help identify optimal upload times.\n",
            "  \n"
          ]
        }
      ]
    },
    {
      "cell_type": "markdown",
      "source": [],
      "metadata": {
        "id": "phkQLAID6ySg"
      }
    }
  ]
}